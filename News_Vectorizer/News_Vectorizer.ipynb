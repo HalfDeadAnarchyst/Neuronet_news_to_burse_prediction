{
 "cells": [
  {
   "cell_type": "code",
   "execution_count": 1,
   "id": "1fa81c93",
   "metadata": {},
   "outputs": [],
   "source": [
    "import csv\n",
    "from datetime import datetime, timedelta\n",
    "import string\n",
    "import pymorphy2\n",
    "from nltk.corpus import stopwords\n",
    "from nltk.tokenize import sent_tokenize, word_tokenize\n",
    "# from nltk.stem import SnowballStemmer\n",
    "import pandas as pd\n",
    "from tqdm import tqdm\n",
    "import matplotlib\n",
    "day_offset = 0\n",
    "DISABLE_MULTITOKEN = True\n",
    "\n",
    "# Предварительные настройки\n",
    "stop_words = stopwords.words(\"russian\")  # nltk загрузка стоп-слов\n",
    "# snowball = SnowballStemmer(language=\"russian\")  # nltk стемматизатор\n",
    "morph = pymorphy2.MorphAnalyzer(lang='ru')  # Морфический анализатор"
   ]
  },
  {
   "cell_type": "code",
   "execution_count": 2,
   "id": "a3f8563d",
   "metadata": {},
   "outputs": [],
   "source": [
    "def tokenizer(text):\n",
    "    result = []\n",
    "    for element in sent_tokenize(text, language=\"russian\"):  # Токенизация предложения\n",
    "        tokens = word_tokenize(element, language=\"russian\")  # Токенизация слов\n",
    "        result_tokens = []\n",
    "        tokens = [''.join(c for c in s if c not in string.punctuation) for s in tokens]  # удаляем знаки препинания\n",
    "        tokens = [''.join(c for c in s if c not in string.octdigits) for s in tokens]  # удаляем цифры\n",
    "        tokens = [s for s in tokens if s]  # удаляем пустые элементы\n",
    "        for token in tokens:\n",
    "            if token not in stop_words and token != \"—\" and token != \"–\":  # удаление стоп-слов и дефисов\n",
    "                token = morph.parse(token)[0].normal_form  # Нормализация\n",
    "                # token = snowball.stem(token)  # Стемматизация\n",
    "                result_tokens.append(token)\n",
    "        if DISABLE_MULTITOKEN:\n",
    "            result += result_tokens\n",
    "        else:\n",
    "            result.append(result_tokens)\n",
    "    #  print(result)\n",
    "    return result"
   ]
  },
  {
   "cell_type": "code",
   "execution_count": 3,
   "id": "e48e16e3",
   "metadata": {},
   "outputs": [],
   "source": [
    "def news_reader(filename):\n",
    "    with open(filename, encoding='utf-8') as news_file:\n",
    "        result = []\n",
    "        spamreader = csv.reader(news_file)\n",
    "        for row in spamreader:\n",
    "            if row:\n",
    "                date_ = (datetime.strptime(row[-1],\n",
    "                         '%Y-%m-%d %H:%M:%S').date() - timedelta(days=day_offset)).strftime(\"%d-%m-%Y\")\n",
    "                # print(date, row[1])\n",
    "                result.append([date_, row[1]])\n",
    "    return result"
   ]
  },
  {
   "cell_type": "code",
   "execution_count": 4,
   "id": "b2ac41df",
   "metadata": {},
   "outputs": [],
   "source": [
    "def eco_reader(filename):\n",
    "    with open(filename, encoding='utf-8') as emo_file:\n",
    "        result = {}\n",
    "        spamreader = csv.reader(emo_file, delimiter=';')\n",
    "        for row in spamreader:\n",
    "            if row:\n",
    "                token = tokenizer(row[0])\n",
    "                if type(token) == list and len(token) > 0:\n",
    "                    result[token[0]] = [row[1], row[2], row[3], row[4], row[5], row[6], row[7]]\n",
    "    return result"
   ]
  },
  {
   "cell_type": "code",
   "execution_count": 5,
   "id": "6915b9fa",
   "metadata": {},
   "outputs": [],
   "source": [
    "def get_sentence_color(sentence):\n",
    "    wtot = 0\n",
    "    wpos = 0\n",
    "    wneg = 0\n",
    "    for word in sentence:\n",
    "        wtot = wtot + 1\n",
    "        if word in emo_dict:\n",
    "            if float(emo_dict[word][1]) > 0:\n",
    "                wpos = wpos + 1\n",
    "            else:\n",
    "                wneg = wneg + 1\n",
    "    return (wpos-wneg)/wtot"
   ]
  },
  {
   "cell_type": "code",
   "execution_count": 6,
   "id": "af801811",
   "metadata": {},
   "outputs": [],
   "source": [
    "news_list = news_reader('ria.csv')\n",
    "emo_dict = eco_reader('emo_dict.csv')"
   ]
  },
  {
   "cell_type": "code",
   "execution_count": 7,
   "id": "307951c5",
   "metadata": {},
   "outputs": [
    {
     "name": "stderr",
     "output_type": "stream",
     "text": [
      "100%|█████████████████████████████████████████████████████████████████████| 285117/285117 [09:44<00:00, 487.74it/s]\n"
     ]
    }
   ],
   "source": [
    "output = []\n",
    "result_list = []\n",
    "# news_temp = news_list[:500]\n",
    "for news in tqdm(news_list):\n",
    "    tokened_news = tokenizer(news[1])\n",
    "    vector = []\n",
    "\n",
    "    sum_vector = get_sentence_color(tokened_news)\n",
    "    \n",
    "    result = f'{news[0]};{news[1]};{tokened_news};{vector};{sum_vector}\\n'\n",
    "    result_list.append([news[0], news[1], tokened_news, vector, sum_vector])\n",
    "    output.append(result)"
   ]
  },
  {
   "cell_type": "code",
   "execution_count": 8,
   "id": "c7eb3995",
   "metadata": {},
   "outputs": [],
   "source": [
    "with open(\"result.csv\", \"w+\", encoding=\"utf-8\") as result_file:\n",
    "    for result in output:\n",
    "        result_file.write(result)"
   ]
  },
  {
   "cell_type": "code",
   "execution_count": 9,
   "id": "46ddc607",
   "metadata": {},
   "outputs": [
    {
     "data": {
      "image/png": "[encoded data removed]",
      "text/plain": [
       "<Figure size 432x288 with 1 Axes>"
      ]
     },
     "metadata": {
      "needs_background": "light"
     },
     "output_type": "display_data"
    }
   ],
   "source": [
    "df = pd.DataFrame(result_list, columns=[\"date\", \"text\", \"tokened_text\", \"vector\", \"sum_vector\"])\n",
    "ax = df.plot.hist(by='sum_vector', bins=100)"
   ]
  },
  {
   "cell_type": "code",
   "execution_count": null,
   "id": "8824dacc",
   "metadata": {},
   "outputs": [],
   "source": []
  }
 ],
 "metadata": {
  "kernelspec": {
   "display_name": "Python 3",
   "language": "python",
   "name": "python3"
  },
  "language_info": {
   "codemirror_mode": {
    "name": "ipython",
    "version": 3
   },
   "file_extension": ".py",
   "mimetype": "text/x-python",
   "name": "python",
   "nbconvert_exporter": "python",
   "pygments_lexer": "ipython3",
   "version": "3.7.6"
  }
 },
 "nbformat": 4,
 "nbformat_minor": 5
}
